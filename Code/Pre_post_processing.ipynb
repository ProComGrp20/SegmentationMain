{
 "cells": [
  {
   "attachments": {},
   "cell_type": "markdown",
   "id": "d07e8116",
   "metadata": {},
   "source": [
    "# Convert DICOM and png images into Nifti image and mathematical morphology methods"
   ]
  },
  {
   "attachments": {},
   "cell_type": "markdown",
   "id": "9801c735",
   "metadata": {},
   "source": [
    "### Convert DICOM to Nifti"
   ]
  },
  {
   "cell_type": "code",
   "execution_count": null,
   "id": "30dc07b6",
   "metadata": {},
   "outputs": [],
   "source": [
    "# Install dicom2nifti \n",
    "pip install dicom2nifti"
   ]
  },
  {
   "cell_type": "code",
   "execution_count": 5,
   "id": "5634a0a5",
   "metadata": {},
   "outputs": [],
   "source": [
    "# Convert DICOM images to Nifti image\n",
    "# ' compression = True ' to get a compressed image\n",
    "import dicom2nifti\n",
    "\n",
    "dicom2nifti.convert_directory('DICOM path','path to save the nifti image',compression = False)"
   ]
  },
  {
   "attachments": {},
   "cell_type": "markdown",
   "id": "d1748a57",
   "metadata": {},
   "source": [
    "### Convert png images into a Nifti image"
   ]
  },
  {
   "cell_type": "code",
   "execution_count": 1,
   "id": "edfc7022",
   "metadata": {},
   "outputs": [],
   "source": [
    "# Libraries\n",
    "import os\n",
    "import glob\n",
    "import numpy as np\n",
    "import nibabel as nib\n",
    "import PIL\n",
    "from PIL import Image"
   ]
  },
  {
   "cell_type": "code",
   "execution_count": 3,
   "id": "318cba8e",
   "metadata": {},
   "outputs": [],
   "source": [
    "# Sort images \n",
    "image_files = sorted(os.listdir('repository s path'))\n",
    "\n",
    "# Load the PNG images into a list of numpy arrays\n",
    "# Do not forget to add '/' to the repository's path\n",
    "images = [np.array(Image.open('repository s path /' + f)) for f in image_files]\n",
    "\n",
    "# Stack the individual images into a 3D or 4D array\n",
    "data = np.stack(images, axis=-1)\n",
    "\n",
    "# Create a NIFTI image object from the data array\n",
    "nifti_img = nib.Nifti1Image(data, np.eye(4))\n",
    "\n",
    "# Save the NIFTI image\n",
    "# Add .gz to \"filename.nii\" in order to obtain a compressed nifti image\n",
    "nib.save(nifti_img, \"filename.nii\")"
   ]
  },
  {
   "attachments": {},
   "cell_type": "markdown",
   "id": "cf715612",
   "metadata": {},
   "source": [
    "### Mathematical morphology methods"
   ]
  },
  {
   "cell_type": "code",
   "execution_count": 4,
   "id": "5a881a5b",
   "metadata": {},
   "outputs": [
    {
     "name": "stdout",
     "output_type": "stream",
     "text": [
      "Finished.\n"
     ]
    }
   ],
   "source": [
    "# Libraries\n",
    "import os\n",
    "import numpy as np\n",
    "from scipy.ndimage import morphology\n",
    "from nibabel import load, save, Nifti1Image\n",
    "\n",
    "# Load data\n",
    "nii = load('path of nifti image')\n",
    "basename = nii.get_filename().split(os.extsep, 1)[0]\n",
    "dirname = os.path.dirname(nii.get_filename())\n",
    "data = np.asarray(nii.dataobj)\n",
    "\n",
    "# Dilatation\n",
    "data = morphology.binary_dilation(data, iterations=1)\n",
    "\n",
    "# Erosion\n",
    "data = morphology.binary_erosion(data, iterations=1)\n",
    "\n",
    "# Closing\n",
    "data = morphology.binary_dilation(data, iterations=1)\n",
    "data = morphology.binary_erosion(data, iterations=1)\n",
    "\n",
    "# Opening\n",
    "data = morphology.binary_erosion(data, iterations=1)\n",
    "data = morphology.binary_dilation(data, iterations=1)\n",
    "\n",
    "# Save as nifti format\n",
    "out = Nifti1Image(data, header=nii.header, affine=nii.affine)\n",
    "save(out, basename + \".nii\")\n",
    "\n",
    "print ('Finished.')"
   ]
  },
  {
   "cell_type": "markdown",
   "id": "9d8207a4",
   "metadata": {},
   "source": []
  }
 ],
 "metadata": {
  "kernelspec": {
   "display_name": "base",
   "language": "python",
   "name": "python3"
  },
  "language_info": {
   "codemirror_mode": {
    "name": "ipython",
    "version": 3
   },
   "file_extension": ".py",
   "mimetype": "text/x-python",
   "name": "python",
   "nbconvert_exporter": "python",
   "pygments_lexer": "ipython3",
   "version": "3.8.16"
  },
  "vscode": {
   "interpreter": {
    "hash": "ac774f9205dd339ee587cdfd75b0a9031a6a5ff98dda79603d74d6ccc51031bb"
   }
  }
 },
 "nbformat": 4,
 "nbformat_minor": 5
}
